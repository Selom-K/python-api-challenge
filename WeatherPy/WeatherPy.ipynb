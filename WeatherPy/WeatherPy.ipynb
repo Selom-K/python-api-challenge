{
 "cells": [
  {
   "cell_type": "markdown",
   "metadata": {},
   "source": [
    "# WeatherPy\n",
    "----\n",
    "\n",
    "#### Note\n",
    "* Instructions have been included for each segment. You do not have to follow them exactly, but they are included to help you think through the steps."
   ]
  },
  {
   "cell_type": "code",
   "execution_count": 49,
   "metadata": {
    "scrolled": true
   },
   "outputs": [],
   "source": [
    "# Dependencies and Setup\n",
    "import matplotlib.pyplot as plt\n",
    "import pandas as pd\n",
    "import numpy as np\n",
    "import requests\n",
    "import time\n",
    "import json\n",
    "import scipy.stats as st\n",
    "from scipy.stats import linregress\n",
    "\n",
    "# Import API key\n",
    "from api_keys import weather_api_key\n",
    "\n",
    "# Incorporated citipy to determine city based on latitude and longitude\n",
    "from citipy import citipy\n",
    "\n",
    "# Output File (CSV)\n",
    "output_data_file = \"output_data/cities.csv\"\n",
    "\n",
    "# Range of latitudes and longitudes\n",
    "lat_range = (-90, 90)\n",
    "lng_range = (-180, 180)"
   ]
  },
  {
   "cell_type": "markdown",
   "metadata": {},
   "source": [
    "## Generate Cities List"
   ]
  },
  {
   "cell_type": "code",
   "execution_count": 2,
   "metadata": {},
   "outputs": [
    {
     "data": {
      "text/plain": [
       "618"
      ]
     },
     "execution_count": 2,
     "metadata": {},
     "output_type": "execute_result"
    }
   ],
   "source": [
    "# List for holding lat_lngs and cities\n",
    "lat_lngs = []\n",
    "cities = []\n",
    "\n",
    "# Create a set of random lat and lng combinations\n",
    "lats = np.random.uniform(lat_range[0], lat_range[1], size=1500)\n",
    "lngs = np.random.uniform(lng_range[0], lng_range[1], size=1500)\n",
    "lat_lngs = zip(lats, lngs)\n",
    "\n",
    "# Identify nearest city for each lat, lng combination\n",
    "for lat_lng in lat_lngs:\n",
    "    city = citipy.nearest_city(lat_lng[0], lat_lng[1]).city_name\n",
    "    \n",
    "    # If the city is unique, then add it to a our cities list\n",
    "    if city not in cities:\n",
    "        cities.append(city)\n",
    "\n",
    "# Print the city count to confirm sufficient count\n",
    "len(cities)"
   ]
  },
  {
   "cell_type": "code",
   "execution_count": 3,
   "metadata": {},
   "outputs": [],
   "source": [
    "# List to perform API calls\n",
    "city_name = []\n",
    "cloudiness = []\n",
    "country = []\n",
    "date = []\n",
    "humidity = []\n",
    "lat = []\n",
    "lng = []\n",
    "max_temp = []\n",
    "wind_speed = []\n",
    "record_counter = 0\n",
    "set_counter = 1"
   ]
  },
  {
   "cell_type": "markdown",
   "metadata": {},
   "source": [
    "### Perform API Calls\n",
    "* Perform a weather check on each city using a series of successive API calls.\n",
    "* Include a print log of each city as it'sbeing processed (with the city number and city name).\n"
   ]
  },
  {
   "cell_type": "code",
   "execution_count": 4,
   "metadata": {
    "scrolled": true
   },
   "outputs": [
    {
     "name": "stdout",
     "output_type": "stream",
     "text": [
      "Begin Data Retrieval \n",
      "-----------------------------\n",
      "Record not found.\n",
      "Processing Record 1 of Set 1 : gewane\n",
      "Processing Record 2 of Set 1 : narsaq\n",
      "Processing Record 3 of Set 1 : suzaka\n",
      "Processing Record 4 of Set 1 : hami\n",
      "Processing Record 5 of Set 1 : muisne\n",
      "Processing Record 6 of Set 1 : korla\n",
      "Processing Record 7 of Set 1 : castro\n",
      "Processing Record 8 of Set 1 : upernavik\n",
      "Processing Record 9 of Set 1 : new norfolk\n",
      "Processing Record 10 of Set 1 : nishihara\n",
      "Processing Record 11 of Set 1 : rikitea\n",
      "Processing Record 12 of Set 1 : dikson\n",
      "Processing Record 13 of Set 1 : tuatapere\n",
      "Processing Record 14 of Set 1 : vangaindrano\n",
      "Processing Record 15 of Set 1 : verkh-usugli\n",
      "Processing Record 16 of Set 1 : hermanus\n",
      "Processing Record 17 of Set 1 : lulea\n",
      "Processing Record 18 of Set 1 : yulara\n",
      "Processing Record 19 of Set 1 : khatanga\n",
      "Processing Record 20 of Set 1 : mataura\n",
      "Processing Record 21 of Set 1 : carnarvon\n",
      "Processing Record 22 of Set 1 : leningradskiy\n",
      "Processing Record 23 of Set 1 : ushuaia\n",
      "Processing Record 24 of Set 1 : pop\n",
      "Processing Record 25 of Set 1 : punta arenas\n",
      "Processing Record 26 of Set 1 : busselton\n",
      "Processing Record 27 of Set 1 : cidreira\n",
      "Processing Record 28 of Set 1 : coruripe\n",
      "Processing Record 29 of Set 1 : pevek\n",
      "Processing Record 30 of Set 1 : verkhoyansk\n",
      "Processing Record 31 of Set 1 : kapaa\n",
      "Processing Record 32 of Set 1 : avarua\n",
      "Processing Record 33 of Set 1 : labuhan\n",
      "Processing Record 34 of Set 1 : santa rosa\n",
      "Processing Record 35 of Set 1 : flinders\n",
      "Record not found.\n",
      "Processing Record 36 of Set 1 : hilo\n",
      "Processing Record 37 of Set 1 : port alfred\n",
      "Processing Record 38 of Set 1 : matagami\n",
      "Processing Record 39 of Set 1 : airai\n",
      "Processing Record 40 of Set 1 : portland\n",
      "Processing Record 41 of Set 1 : kropotkin\n",
      "Processing Record 42 of Set 1 : abomey-calavi\n",
      "Processing Record 43 of Set 1 : lokosovo\n",
      "Processing Record 44 of Set 1 : victoria\n",
      "Processing Record 45 of Set 1 : hovd\n",
      "Processing Record 46 of Set 1 : coihaique\n",
      "Processing Record 47 of Set 1 : kodiak\n",
      "Processing Record 48 of Set 1 : barrow\n",
      "Processing Record 49 of Set 1 : saskylakh\n",
      "Processing Record 50 of Set 1 : thompson\n",
      "Processing Record 51 of Set 1 : scarborough\n",
      "Processing Record 0 of Set 2 : albany\n",
      "Processing Record 1 of Set 2 : harper\n",
      "Processing Record 2 of Set 2 : butaritari\n",
      "Processing Record 3 of Set 2 : lisakovsk\n",
      "Processing Record 4 of Set 2 : esqueda\n",
      "Processing Record 5 of Set 2 : san quintin\n",
      "Record not found.\n",
      "Processing Record 6 of Set 2 : bredasdorp\n",
      "Processing Record 7 of Set 2 : mahebourg\n",
      "Processing Record 8 of Set 2 : key largo\n",
      "Processing Record 9 of Set 2 : maniwaki\n",
      "Processing Record 10 of Set 2 : petaluma\n",
      "Processing Record 11 of Set 2 : palatka\n",
      "Processing Record 12 of Set 2 : kavaratti\n",
      "Processing Record 13 of Set 2 : cape town\n",
      "Processing Record 14 of Set 2 : abalak\n",
      "Processing Record 15 of Set 2 : puerto ayora\n",
      "Processing Record 16 of Set 2 : port elizabeth\n",
      "Processing Record 17 of Set 2 : samarai\n",
      "Processing Record 18 of Set 2 : gat\n",
      "Processing Record 19 of Set 2 : aklavik\n",
      "Processing Record 20 of Set 2 : atuona\n",
      "Processing Record 21 of Set 2 : vila franca do campo\n",
      "Processing Record 22 of Set 2 : jamestown\n",
      "Processing Record 23 of Set 2 : san policarpo\n",
      "Processing Record 24 of Set 2 : arraial do cabo\n",
      "Processing Record 25 of Set 2 : hualmay\n",
      "Processing Record 26 of Set 2 : talnakh\n",
      "Processing Record 27 of Set 2 : tasiilaq\n",
      "Processing Record 28 of Set 2 : provideniya\n",
      "Processing Record 29 of Set 2 : hobart\n",
      "Processing Record 30 of Set 2 : east london\n",
      "Processing Record 31 of Set 2 : sao joao da barra\n",
      "Processing Record 32 of Set 2 : bathsheba\n",
      "Processing Record 33 of Set 2 : mar del plata\n",
      "Processing Record 34 of Set 2 : lagoa\n",
      "Processing Record 35 of Set 2 : terra santa\n",
      "Processing Record 36 of Set 2 : hithadhoo\n",
      "Processing Record 37 of Set 2 : tuktoyaktuk\n",
      "Processing Record 38 of Set 2 : ust-koksa\n",
      "Processing Record 39 of Set 2 : brewster\n",
      "Processing Record 40 of Set 2 : kasama\n",
      "Processing Record 41 of Set 2 : cherskiy\n",
      "Processing Record 42 of Set 2 : alofi\n",
      "Processing Record 43 of Set 2 : port augusta\n",
      "Processing Record 44 of Set 2 : norman wells\n",
      "Processing Record 45 of Set 2 : ulverstone\n",
      "Processing Record 46 of Set 2 : chuy\n",
      "Processing Record 47 of Set 2 : panjab\n",
      "Processing Record 48 of Set 2 : puri\n",
      "Processing Record 49 of Set 2 : pangai\n",
      "Processing Record 50 of Set 2 : qaanaaq\n",
      "Processing Record 51 of Set 2 : floro\n",
      "Processing Record 0 of Set 3 : homer\n",
      "Processing Record 1 of Set 3 : mount isa\n",
      "Processing Record 2 of Set 3 : berdigestyakh\n",
      "Processing Record 3 of Set 3 : phangnga\n",
      "Processing Record 4 of Set 3 : constitucion\n",
      "Processing Record 5 of Set 3 : murfreesboro\n",
      "Processing Record 6 of Set 3 : merrill\n",
      "Record not found.\n",
      "Processing Record 7 of Set 3 : codajas\n",
      "Processing Record 8 of Set 3 : chokwe\n",
      "Processing Record 9 of Set 3 : kot diji\n",
      "Processing Record 10 of Set 3 : saint george\n",
      "Processing Record 11 of Set 3 : buluang\n",
      "Processing Record 12 of Set 3 : henties bay\n",
      "Processing Record 13 of Set 3 : bluff\n",
      "Processing Record 14 of Set 3 : geraldton\n",
      "Record not found.\n",
      "Processing Record 15 of Set 3 : cockburn town\n",
      "Processing Record 16 of Set 3 : wilkie\n",
      "Processing Record 17 of Set 3 : senador jose porfirio\n",
      "Processing Record 18 of Set 3 : okhotsk\n",
      "Processing Record 19 of Set 3 : winnemucca\n",
      "Processing Record 20 of Set 3 : chara\n",
      "Processing Record 21 of Set 3 : faanui\n",
      "Processing Record 22 of Set 3 : kavieng\n",
      "Processing Record 23 of Set 3 : dalaba\n",
      "Processing Record 24 of Set 3 : bambous virieux\n",
      "Processing Record 25 of Set 3 : thunder bay\n",
      "Processing Record 26 of Set 3 : bayonet point\n",
      "Processing Record 27 of Set 3 : del rio\n",
      "Processing Record 28 of Set 3 : yellowknife\n",
      "Processing Record 29 of Set 3 : vao\n",
      "Processing Record 30 of Set 3 : mangrol\n",
      "Processing Record 31 of Set 3 : georgetown\n",
      "Processing Record 32 of Set 3 : chimoio\n",
      "Processing Record 33 of Set 3 : humboldt\n",
      "Processing Record 34 of Set 3 : antofagasta\n",
      "Processing Record 35 of Set 3 : lodja\n",
      "Processing Record 36 of Set 3 : noumea\n",
      "Processing Record 37 of Set 3 : cayenne\n",
      "Processing Record 38 of Set 3 : yaan\n",
      "Processing Record 39 of Set 3 : shunyi\n",
      "Processing Record 40 of Set 3 : kaitangata\n",
      "Processing Record 41 of Set 3 : djibo\n",
      "Processing Record 42 of Set 3 : acarau\n",
      "Processing Record 43 of Set 3 : asyut\n",
      "Processing Record 44 of Set 3 : amursk\n",
      "Processing Record 45 of Set 3 : bubaque\n",
      "Processing Record 46 of Set 3 : doha\n",
      "Processing Record 47 of Set 3 : tshela\n",
      "Processing Record 48 of Set 3 : saldanha\n",
      "Processing Record 49 of Set 3 : dingle\n",
      "Processing Record 50 of Set 3 : ostrovnoy\n",
      "Record not found.\n",
      "Record not found.\n",
      "Processing Record 51 of Set 3 : guerrero negro\n",
      "Processing Record 0 of Set 4 : raga\n",
      "Processing Record 1 of Set 4 : ponta do sol\n",
      "Processing Record 2 of Set 4 : kismayo\n",
      "Processing Record 3 of Set 4 : kloulklubed\n",
      "Processing Record 4 of Set 4 : hermitage\n",
      "Processing Record 5 of Set 4 : buraydah\n",
      "Processing Record 6 of Set 4 : port-gentil\n",
      "Record not found.\n",
      "Processing Record 7 of Set 4 : taltal\n",
      "Processing Record 8 of Set 4 : sao filipe\n",
      "Processing Record 9 of Set 4 : barra\n",
      "Processing Record 10 of Set 4 : nemuro\n",
      "Processing Record 11 of Set 4 : sur\n",
      "Processing Record 12 of Set 4 : mandera\n",
      "Processing Record 13 of Set 4 : broken hill\n",
      "Processing Record 14 of Set 4 : bandarbeyla\n",
      "Processing Record 15 of Set 4 : boguchany\n",
      "Processing Record 16 of Set 4 : rawson\n",
      "Processing Record 17 of Set 4 : beringovskiy\n",
      "Processing Record 18 of Set 4 : camacupa\n",
      "Processing Record 19 of Set 4 : nikolskoye\n",
      "Record not found.\n",
      "Processing Record 20 of Set 4 : petropavlovka\n",
      "Processing Record 21 of Set 4 : porto velho\n",
      "Processing Record 22 of Set 4 : kijang\n",
      "Processing Record 23 of Set 4 : zhigansk\n",
      "Processing Record 24 of Set 4 : lazaro cardenas\n",
      "Processing Record 25 of Set 4 : alta floresta\n",
      "Record not found.\n",
      "Processing Record 26 of Set 4 : cabedelo\n",
      "Processing Record 27 of Set 4 : asau\n",
      "Processing Record 28 of Set 4 : jega\n",
      "Processing Record 29 of Set 4 : nueva guinea\n",
      "Processing Record 30 of Set 4 : emerald\n",
      "Processing Record 31 of Set 4 : haltern\n",
      "Processing Record 32 of Set 4 : montrose\n",
      "Processing Record 33 of Set 4 : san patricio\n",
      "Record not found.\n",
      "Processing Record 34 of Set 4 : tiksi\n",
      "Processing Record 35 of Set 4 : filadelfia\n",
      "Processing Record 36 of Set 4 : kondopoga\n",
      "Processing Record 37 of Set 4 : axim\n",
      "Processing Record 38 of Set 4 : roald\n"
     ]
    },
    {
     "name": "stdout",
     "output_type": "stream",
     "text": [
      "Processing Record 39 of Set 4 : bousso\n",
      "Processing Record 40 of Set 4 : deputatskiy\n",
      "Processing Record 41 of Set 4 : colombia\n",
      "Processing Record 42 of Set 4 : pauini\n",
      "Record not found.\n",
      "Record not found.\n",
      "Processing Record 43 of Set 4 : naze\n",
      "Processing Record 44 of Set 4 : nanortalik\n",
      "Processing Record 45 of Set 4 : vaini\n",
      "Record not found.\n",
      "Processing Record 46 of Set 4 : ponta delgada\n",
      "Record not found.\n",
      "Processing Record 47 of Set 4 : chokurdakh\n",
      "Processing Record 48 of Set 4 : san luis\n",
      "Processing Record 49 of Set 4 : bilma\n",
      "Processing Record 50 of Set 4 : tabuk\n",
      "Processing Record 51 of Set 4 : moron\n",
      "Processing Record 0 of Set 5 : lebu\n",
      "Record not found.\n",
      "Processing Record 1 of Set 5 : kangaatsiaq\n",
      "Record not found.\n",
      "Processing Record 2 of Set 5 : pacific grove\n",
      "Processing Record 3 of Set 5 : honiara\n",
      "Processing Record 4 of Set 5 : victor harbor\n",
      "Processing Record 5 of Set 5 : kauhajoki\n",
      "Processing Record 6 of Set 5 : muhos\n",
      "Processing Record 7 of Set 5 : bengkulu\n",
      "Processing Record 8 of Set 5 : spencer\n",
      "Processing Record 9 of Set 5 : aksarayskiy\n",
      "Processing Record 10 of Set 5 : algiers\n",
      "Record not found.\n",
      "Processing Record 11 of Set 5 : sitka\n",
      "Record not found.\n",
      "Processing Record 12 of Set 5 : nome\n",
      "Record not found.\n",
      "Processing Record 13 of Set 5 : poum\n",
      "Processing Record 14 of Set 5 : miramar\n",
      "Processing Record 15 of Set 5 : sioux lookout\n",
      "Processing Record 16 of Set 5 : marystown\n",
      "Processing Record 17 of Set 5 : lompoc\n",
      "Processing Record 18 of Set 5 : loa janan\n",
      "Processing Record 19 of Set 5 : sinnamary\n",
      "Processing Record 20 of Set 5 : seoul\n",
      "Processing Record 21 of Set 5 : flin flon\n",
      "Processing Record 22 of Set 5 : kuliyapitiya\n",
      "Processing Record 23 of Set 5 : juruti\n",
      "Processing Record 24 of Set 5 : pacifica\n",
      "Processing Record 25 of Set 5 : tadepallegudem\n",
      "Processing Record 26 of Set 5 : whitehorse\n",
      "Processing Record 27 of Set 5 : dunedin\n",
      "Processing Record 28 of Set 5 : codrington\n",
      "Processing Record 29 of Set 5 : xining\n",
      "Processing Record 30 of Set 5 : charagua\n",
      "Processing Record 31 of Set 5 : gaoual\n",
      "Processing Record 32 of Set 5 : fairbanks\n",
      "Record not found.\n",
      "Processing Record 33 of Set 5 : stirling\n",
      "Processing Record 34 of Set 5 : meulaboh\n",
      "Processing Record 35 of Set 5 : kulhudhuffushi\n",
      "Processing Record 36 of Set 5 : coahuayana\n",
      "Processing Record 37 of Set 5 : ribeira grande\n",
      "Record not found.\n",
      "Record not found.\n",
      "Processing Record 38 of Set 5 : verkhnevilyuysk\n",
      "Processing Record 39 of Set 5 : santa fe\n",
      "Processing Record 40 of Set 5 : mackay\n",
      "Processing Record 41 of Set 5 : sidhi\n",
      "Processing Record 42 of Set 5 : sindor\n",
      "Processing Record 43 of Set 5 : husavik\n",
      "Processing Record 44 of Set 5 : ola\n",
      "Processing Record 45 of Set 5 : saint-philippe\n",
      "Processing Record 46 of Set 5 : tessalit\n",
      "Record not found.\n",
      "Processing Record 47 of Set 5 : goderich\n",
      "Processing Record 48 of Set 5 : lavrentiya\n",
      "Processing Record 49 of Set 5 : komsomolskiy\n",
      "Processing Record 50 of Set 5 : severo-kurilsk\n",
      "Processing Record 51 of Set 5 : tiznit\n",
      "Processing Record 0 of Set 6 : manzhouli\n",
      "Processing Record 1 of Set 6 : borovskoy\n",
      "Processing Record 2 of Set 6 : port lincoln\n",
      "Processing Record 3 of Set 6 : klaksvik\n",
      "Record not found.\n",
      "Processing Record 4 of Set 6 : campbell river\n",
      "Processing Record 5 of Set 6 : chichli\n",
      "Processing Record 6 of Set 6 : vanimo\n",
      "Processing Record 7 of Set 6 : sabha\n",
      "Processing Record 8 of Set 6 : arman\n",
      "Processing Record 9 of Set 6 : uvalde\n",
      "Record not found.\n",
      "Processing Record 10 of Set 6 : torbay\n",
      "Processing Record 11 of Set 6 : tayu\n",
      "Processing Record 12 of Set 6 : kaeo\n",
      "Processing Record 13 of Set 6 : kashi\n",
      "Processing Record 14 of Set 6 : katsuura\n",
      "Processing Record 15 of Set 6 : townsville\n",
      "Processing Record 16 of Set 6 : ahipara\n",
      "Processing Record 17 of Set 6 : nyurba\n",
      "Processing Record 18 of Set 6 : ankazoabo\n",
      "Processing Record 19 of Set 6 : parrita\n",
      "Processing Record 20 of Set 6 : la rioja\n",
      "Processing Record 21 of Set 6 : nowogard\n",
      "Processing Record 22 of Set 6 : turayf\n",
      "Processing Record 23 of Set 6 : el alto\n",
      "Processing Record 24 of Set 6 : mahajanga\n",
      "Processing Record 25 of Set 6 : novobelokatay\n",
      "Processing Record 26 of Set 6 : segou\n",
      "Processing Record 27 of Set 6 : riyadh\n",
      "Processing Record 28 of Set 6 : kakamega\n",
      "Processing Record 29 of Set 6 : arrifes\n",
      "Processing Record 30 of Set 6 : alugan\n",
      "Processing Record 31 of Set 6 : kailua\n",
      "Processing Record 32 of Set 6 : bayir\n",
      "Processing Record 33 of Set 6 : liaozhong\n",
      "Processing Record 34 of Set 6 : erenhot\n",
      "Processing Record 35 of Set 6 : jalu\n",
      "Processing Record 36 of Set 6 : yatou\n",
      "Processing Record 37 of Set 6 : san jose\n",
      "Processing Record 38 of Set 6 : atar\n",
      "Processing Record 39 of Set 6 : yerbogachen\n",
      "Processing Record 40 of Set 6 : bouna\n",
      "Processing Record 41 of Set 6 : lozuvatka\n",
      "Processing Record 42 of Set 6 : mount gambier\n",
      "Processing Record 43 of Set 6 : konya\n",
      "Processing Record 44 of Set 6 : miandrivazo\n",
      "Processing Record 45 of Set 6 : mersing\n",
      "Processing Record 46 of Set 6 : troitsko-pechorsk\n",
      "Record not found.\n",
      "Processing Record 47 of Set 6 : gwadar\n",
      "Processing Record 48 of Set 6 : cabo san lucas\n",
      "Processing Record 49 of Set 6 : kerema\n",
      "Processing Record 50 of Set 6 : guaruja\n",
      "Record not found.\n",
      "Processing Record 51 of Set 6 : buguruslan\n",
      "Processing Record 0 of Set 7 : braine-le-comte\n",
      "Processing Record 1 of Set 7 : trinidad\n",
      "Processing Record 2 of Set 7 : touros\n",
      "Processing Record 3 of Set 7 : nicoya\n",
      "Processing Record 4 of Set 7 : esperance\n",
      "Processing Record 5 of Set 7 : sinazongwe\n",
      "Record not found.\n",
      "Processing Record 6 of Set 7 : novyy urgal\n",
      "Processing Record 7 of Set 7 : ganzhou\n",
      "Record not found.\n",
      "Processing Record 8 of Set 7 : minas novas\n",
      "Processing Record 9 of Set 7 : buckeye\n",
      "Processing Record 10 of Set 7 : prachuap khiri khan\n",
      "Processing Record 11 of Set 7 : troitskoye\n",
      "Processing Record 12 of Set 7 : adrar\n",
      "Processing Record 13 of Set 7 : bethel\n",
      "Processing Record 14 of Set 7 : japura\n",
      "Processing Record 15 of Set 7 : ekhabi\n",
      "Processing Record 16 of Set 7 : grants\n",
      "Processing Record 17 of Set 7 : ileza\n",
      "Processing Record 18 of Set 7 : skoropuskovskiy\n",
      "Processing Record 19 of Set 7 : mehamn\n",
      "Processing Record 20 of Set 7 : slonim\n",
      "Processing Record 21 of Set 7 : apatity\n",
      "Processing Record 22 of Set 7 : chinhoyi\n",
      "Processing Record 23 of Set 7 : trogir\n",
      "Processing Record 24 of Set 7 : cazones\n",
      "Processing Record 25 of Set 7 : harnosand\n",
      "Processing Record 26 of Set 7 : smolenka\n",
      "Processing Record 27 of Set 7 : ventspils\n",
      "Processing Record 28 of Set 7 : aransas pass\n",
      "Record not found.\n",
      "Processing Record 29 of Set 7 : bahia honda\n",
      "Processing Record 30 of Set 7 : dzilam gonzalez\n",
      "Processing Record 31 of Set 7 : wajima\n",
      "Processing Record 32 of Set 7 : acapulco\n",
      "Processing Record 33 of Set 7 : grindavik\n",
      "Processing Record 34 of Set 7 : souillac\n",
      "Processing Record 35 of Set 7 : coquimbo\n",
      "Processing Record 36 of Set 7 : moratuwa\n",
      "Processing Record 37 of Set 7 : muravlenko\n",
      "Processing Record 38 of Set 7 : razdolinsk\n",
      "Processing Record 39 of Set 7 : clyde river\n",
      "Processing Record 40 of Set 7 : suraabad\n",
      "Processing Record 41 of Set 7 : ilulissat\n",
      "Processing Record 42 of Set 7 : bam\n",
      "Processing Record 43 of Set 7 : koidu\n",
      "Processing Record 44 of Set 7 : puerto del rosario\n",
      "Processing Record 45 of Set 7 : dourados\n",
      "Processing Record 46 of Set 7 : mayo\n",
      "Processing Record 47 of Set 7 : constantine\n",
      "Processing Record 48 of Set 7 : mugur-aksy\n",
      "Processing Record 49 of Set 7 : tomohon\n",
      "Processing Record 50 of Set 7 : hvide sande\n",
      "Processing Record 51 of Set 7 : ust-tsilma\n",
      "Record not found.\n",
      "Processing Record 0 of Set 8 : hasaki\n",
      "Processing Record 1 of Set 8 : svetlogorsk\n",
      "Processing Record 2 of Set 8 : saint-francois\n",
      "Processing Record 3 of Set 8 : laguna\n",
      "Processing Record 4 of Set 8 : vostok\n",
      "Processing Record 5 of Set 8 : ciparay\n",
      "Record not found.\n",
      "Processing Record 6 of Set 8 : sao lourenco do sul\n",
      "Processing Record 7 of Set 8 : bonavista\n",
      "Processing Record 8 of Set 8 : port blair\n",
      "Processing Record 9 of Set 8 : trofaiach\n",
      "Processing Record 10 of Set 8 : marzuq\n",
      "Processing Record 11 of Set 8 : te anau\n",
      "Processing Record 12 of Set 8 : bhimunipatnam\n",
      "Record not found.\n",
      "Record not found.\n",
      "Processing Record 13 of Set 8 : christchurch\n",
      "Processing Record 14 of Set 8 : njombe\n",
      "Processing Record 15 of Set 8 : yarmouth\n",
      "Processing Record 16 of Set 8 : dolinsk\n",
      "Processing Record 17 of Set 8 : burgos\n",
      "Processing Record 18 of Set 8 : kapuskasing\n",
      "Processing Record 19 of Set 8 : kokkola\n"
     ]
    },
    {
     "name": "stdout",
     "output_type": "stream",
     "text": [
      "Processing Record 20 of Set 8 : viedma\n",
      "Processing Record 21 of Set 8 : porto alegre\n",
      "Processing Record 22 of Set 8 : la ronge\n",
      "Processing Record 23 of Set 8 : beatrice\n",
      "Processing Record 24 of Set 8 : bairiki\n",
      "Processing Record 25 of Set 8 : bhadrachalam\n",
      "Processing Record 26 of Set 8 : kosa\n",
      "Processing Record 27 of Set 8 : grand gaube\n",
      "Processing Record 28 of Set 8 : sundsvall\n",
      "Processing Record 29 of Set 8 : bestobe\n",
      "Processing Record 30 of Set 8 : shumskiy\n",
      "Processing Record 31 of Set 8 : lumeje\n",
      "Processing Record 32 of Set 8 : kuri\n",
      "Processing Record 33 of Set 8 : sinop\n",
      "Processing Record 34 of Set 8 : ancud\n",
      "Processing Record 35 of Set 8 : saint-augustin\n",
      "Processing Record 36 of Set 8 : socuellamos\n",
      "Processing Record 37 of Set 8 : fuling\n",
      "Processing Record 38 of Set 8 : pochutla\n",
      "Processing Record 39 of Set 8 : ennis\n",
      "Processing Record 40 of Set 8 : izhma\n",
      "Processing Record 41 of Set 8 : mizdah\n",
      "Processing Record 42 of Set 8 : dawlatabad\n",
      "Record not found.\n",
      "Processing Record 43 of Set 8 : krasnyy chikoy\n",
      "Processing Record 44 of Set 8 : awjilah\n",
      "Processing Record 45 of Set 8 : phan thiet\n",
      "Processing Record 46 of Set 8 : wageningen\n",
      "Processing Record 47 of Set 8 : north myrtle beach\n",
      "Processing Record 48 of Set 8 : oum hadjer\n",
      "Processing Record 49 of Set 8 : andenes\n",
      "Processing Record 50 of Set 8 : quincy\n",
      "Processing Record 51 of Set 8 : rawah\n",
      "Processing Record 0 of Set 9 : kokoda\n",
      "Processing Record 1 of Set 9 : longyearbyen\n",
      "Processing Record 2 of Set 9 : saint anthony\n",
      "Processing Record 3 of Set 9 : huehuetenango\n",
      "Processing Record 4 of Set 9 : qovlar\n",
      "Processing Record 5 of Set 9 : jimeta\n",
      "Processing Record 6 of Set 9 : byron bay\n",
      "Processing Record 7 of Set 9 : fortuna\n",
      "Processing Record 8 of Set 9 : ulaanbaatar\n",
      "Processing Record 9 of Set 9 : beyneu\n",
      "Processing Record 10 of Set 9 : kingisepp\n",
      "Processing Record 11 of Set 9 : maceio\n",
      "Processing Record 12 of Set 9 : kelme\n",
      "Processing Record 13 of Set 9 : celbridge\n",
      "Processing Record 14 of Set 9 : inuvik\n",
      "Processing Record 15 of Set 9 : praia da vitoria\n",
      "Processing Record 16 of Set 9 : kruisfontein\n",
      "Processing Record 17 of Set 9 : hamilton\n",
      "Processing Record 18 of Set 9 : santa teresa\n",
      "Processing Record 19 of Set 9 : pucallpa\n",
      "Processing Record 20 of Set 9 : launceston\n",
      "Processing Record 21 of Set 9 : isangel\n",
      "Processing Record 22 of Set 9 : egvekinot\n",
      "Processing Record 23 of Set 9 : kholm\n",
      "Processing Record 24 of Set 9 : svetlaya\n",
      "Processing Record 25 of Set 9 : jaisalmer\n",
      "Processing Record 26 of Set 9 : talcahuano\n",
      "Processing Record 27 of Set 9 : oistins\n",
      "Processing Record 28 of Set 9 : ous\n",
      "Processing Record 29 of Set 9 : eureka\n",
      "Processing Record 30 of Set 9 : tagusao\n",
      "Processing Record 31 of Set 9 : desaguadero\n",
      "Processing Record 32 of Set 9 : krasnofarfornyy\n",
      "Processing Record 33 of Set 9 : molteno\n",
      "Processing Record 34 of Set 9 : maniitsoq\n",
      "Processing Record 35 of Set 9 : kabare\n",
      "Processing Record 36 of Set 9 : quepos\n",
      "Processing Record 37 of Set 9 : biloela\n",
      "Record not found.\n",
      "Processing Record 38 of Set 9 : barraute\n",
      "Processing Record 39 of Set 9 : marsa matruh\n",
      "Processing Record 40 of Set 9 : hobyo\n",
      "Processing Record 41 of Set 9 : zarautz\n",
      "Processing Record 42 of Set 9 : dzhebariki-khaya\n",
      "Processing Record 43 of Set 9 : takoradi\n",
      "Processing Record 44 of Set 9 : beloha\n",
      "Processing Record 45 of Set 9 : mayumba\n",
      "Processing Record 46 of Set 9 : linjiang\n",
      "Processing Record 47 of Set 9 : semirom\n",
      "Processing Record 48 of Set 9 : malanje\n",
      "Processing Record 49 of Set 9 : maputo\n",
      "Processing Record 50 of Set 9 : kokorevka\n",
      "Processing Record 51 of Set 9 : agadir\n",
      "Processing Record 0 of Set 10 : haines junction\n",
      "Processing Record 1 of Set 10 : ordzhonikidze\n",
      "Processing Record 2 of Set 10 : lindi\n",
      "Processing Record 3 of Set 10 : sept-iles\n",
      "Record not found.\n",
      "Record not found.\n",
      "Processing Record 4 of Set 10 : gushikawa\n",
      "Processing Record 5 of Set 10 : westlock\n",
      "Record not found.\n",
      "Record not found.\n",
      "Record not found.\n",
      "Processing Record 6 of Set 10 : san cristobal\n",
      "Processing Record 7 of Set 10 : guozhen\n",
      "Processing Record 8 of Set 10 : kholm-zhirkovskiy\n",
      "Processing Record 9 of Set 10 : zaraza\n",
      "Processing Record 10 of Set 10 : ciudad bolivar\n",
      "Processing Record 11 of Set 10 : myitkyina\n",
      "Processing Record 12 of Set 10 : tilichiki\n",
      "Processing Record 13 of Set 10 : andapa\n",
      "Processing Record 14 of Set 10 : quatre cocos\n",
      "Processing Record 15 of Set 10 : altay\n",
      "Processing Record 16 of Set 10 : havre\n",
      "Processing Record 17 of Set 10 : yantzaza\n",
      "Record not found.\n",
      "Processing Record 18 of Set 10 : aranos\n",
      "Processing Record 19 of Set 10 : luderitz\n",
      "Processing Record 20 of Set 10 : viransehir\n",
      "Processing Record 21 of Set 10 : tokonou\n",
      "Processing Record 22 of Set 10 : los llanos de aridane\n",
      "Processing Record 23 of Set 10 : fare\n",
      "Processing Record 24 of Set 10 : saryozek\n",
      "Processing Record 25 of Set 10 : romny\n",
      "Processing Record 26 of Set 10 : namibe\n",
      "Record not found.\n",
      "Processing Record 27 of Set 10 : piripiri\n",
      "Processing Record 28 of Set 10 : sumbe\n",
      "Processing Record 29 of Set 10 : nakhon phanom\n",
      "Processing Record 30 of Set 10 : honningsvag\n",
      "Processing Record 31 of Set 10 : grojec\n",
      "Processing Record 32 of Set 10 : lensk\n",
      "Processing Record 33 of Set 10 : tura\n",
      "Processing Record 34 of Set 10 : juba\n",
      "Processing Record 35 of Set 10 : srednekolymsk\n",
      "Processing Record 36 of Set 10 : anqing\n",
      "Record not found.\n",
      "Processing Record 37 of Set 10 : cayhagan\n",
      "Processing Record 38 of Set 10 : broome\n",
      "Processing Record 39 of Set 10 : opuwo\n",
      "Processing Record 40 of Set 10 : lazarev\n",
      "Processing Record 41 of Set 10 : bolkhov\n",
      "Processing Record 42 of Set 10 : souris\n",
      "Processing Record 43 of Set 10 : kilindoni\n",
      "Processing Record 44 of Set 10 : narasannapeta\n",
      "Processing Record 45 of Set 10 : asfi\n",
      "Processing Record 46 of Set 10 : aswan\n",
      "Processing Record 47 of Set 10 : caceres\n",
      "Processing Record 48 of Set 10 : evensk\n",
      "Processing Record 49 of Set 10 : karlstad\n",
      "Processing Record 50 of Set 10 : pisco\n",
      "Processing Record 51 of Set 10 : lianzhou\n",
      "Processing Record 0 of Set 11 : karlskrona\n",
      "Processing Record 1 of Set 11 : veraval\n",
      "Processing Record 2 of Set 11 : mujiayingzi\n",
      "Processing Record 3 of Set 11 : dossor\n",
      "Record not found.\n",
      "Processing Record 4 of Set 11 : miri\n",
      "Processing Record 5 of Set 11 : acobamba\n",
      "Processing Record 6 of Set 11 : oros\n",
      "Record not found.\n",
      "Processing Record 7 of Set 11 : jackson\n",
      "Processing Record 8 of Set 11 : lasa\n",
      "Record not found.\n",
      "Processing Record 9 of Set 11 : isiro\n",
      "Record not found.\n",
      "Processing Record 10 of Set 11 : kondapalle\n",
      "Processing Record 11 of Set 11 : gbarnga\n",
      "Processing Record 12 of Set 11 : kochevo\n",
      "Processing Record 13 of Set 11 : regina\n",
      "Processing Record 14 of Set 11 : namatanai\n",
      "Record not found.\n",
      "Processing Record 15 of Set 11 : inhambane\n",
      "Processing Record 16 of Set 11 : turukhansk\n",
      "Processing Record 17 of Set 11 : burnie\n",
      "Processing Record 18 of Set 11 : paamiut\n",
      "Processing Record 19 of Set 11 : magaria\n",
      "Processing Record 20 of Set 11 : haverfordwest\n",
      "Processing Record 21 of Set 11 : yarada\n",
      "Processing Record 22 of Set 11 : correia pinto\n",
      "Record not found.\n",
      "Processing Record 23 of Set 11 : ewa beach\n",
      "Processing Record 24 of Set 11 : kita\n",
      "Processing Record 25 of Set 11 : fort smith\n",
      "Processing Record 26 of Set 11 : barwadih\n",
      "Processing Record 27 of Set 11 : abha\n",
      "Processing Record 28 of Set 11 : arlit\n",
      "Processing Record 29 of Set 11 : sechura\n",
      "Processing Record 30 of Set 11 : outjo\n",
      "Processing Record 31 of Set 11 : matara\n",
      "Processing Record 32 of Set 11 : iroquois falls\n",
      "Processing Record 33 of Set 11 : kahului\n",
      "Processing Record 34 of Set 11 : nuuk\n",
      "Processing Record 35 of Set 11 : nouadhibou\n",
      "Processing Record 36 of Set 11 : rio grande\n",
      "Processing Record 37 of Set 11 : faya\n",
      "Processing Record 38 of Set 11 : raudeberg\n",
      "Processing Record 39 of Set 11 : kamiiso\n",
      "Processing Record 40 of Set 11 : beidao\n",
      "Processing Record 41 of Set 11 : petropavlovsk-kamchatskiy\n",
      "Processing Record 42 of Set 11 : the valley\n",
      "Processing Record 43 of Set 11 : borogontsy\n",
      "Processing Record 44 of Set 11 : mundo nuevo\n",
      "Processing Record 45 of Set 11 : ilhabela\n",
      "Processing Record 46 of Set 11 : ibaiti\n",
      "Processing Record 47 of Set 11 : vardo\n",
      "-----------------------------\n",
      "Data Retrieval Completed\n",
      "-----------------------------\n"
     ]
    }
   ],
   "source": [
    "\n",
    "print(\"Begin Data Retrieval \")\n",
    "print(\"-----------------------------\")\n",
    "\n",
    "base_url = \"http://api.openweathermap.org/data/2.5/weather?\"\n",
    "units = \"imperial\"\n",
    "query_url = f\"{base_url}appid={weather_api_key}&units={units}&q=\"\n",
    "\n",
    "\n",
    "# For each city name in cities list, do below things...\n",
    "for index, city in enumerate(cities, start = 1):\n",
    "    try:\n",
    "        response = requests.get(query_url + city).json()\n",
    "        city_name.append(response[\"name\"])\n",
    "        cloudiness.append(response[\"clouds\"][\"all\"])\n",
    "        country.append(response[\"sys\"][\"country\"])\n",
    "        date.append(response[\"dt\"])\n",
    "        humidity.append(response[\"main\"][\"humidity\"])\n",
    "        lat.append(response[\"coord\"][\"lat\"])\n",
    "        lng.append(response[\"coord\"][\"lon\"])\n",
    "        max_temp.append(response['main']['temp_max'])\n",
    "        wind_speed.append(response[\"wind\"][\"speed\"])\n",
    "        if record_counter > 50:\n",
    "            record_counter = 0\n",
    "            set_counter = set_counter + 1\n",
    "    \n",
    "        else:\n",
    "            record_counter = record_counter + 1\n",
    "            \n",
    "        print(f\"Processing Record {record_counter} of Set {set_counter} : {city}\") \n",
    "  \n",
    "    except(KeyError, IndexError):\n",
    "        print(\"Record not found.\")\n",
    "\n",
    "print(\"-----------------------------\")\n",
    "print(\"Data Retrieval Completed\")\n",
    "print(\"-----------------------------\")\n",
    "\n"
   ]
  },
  {
   "cell_type": "markdown",
   "metadata": {},
   "source": [
    "### Convert Raw Data to DataFrame\n",
    "* Export the city data into a .csv.\n",
    "* Display the DataFrame"
   ]
  },
  {
   "cell_type": "code",
   "execution_count": 7,
   "metadata": {},
   "outputs": [],
   "source": [
    "weather_dictionary = pd.DataFrame({\n",
    "                                  \"City\": city_name,\n",
    "                                  \"Cloudiness\": cloudiness,\n",
    "                                  \"Country\": country,\n",
    "                                  \"Date\": date,\n",
    "                                  \"Humidity\": humidity,\n",
    "                                  \"Lat\": lat,\n",
    "                                  \"Lng\": lng,\n",
    "                                  \"Max Temp\": max_temp,\n",
    "                                  \"Wind Speed\": wind_speed\n",
    "                                  })\n"
   ]
  },
  {
   "cell_type": "code",
   "execution_count": 8,
   "metadata": {},
   "outputs": [
    {
     "data": {
      "text/plain": [
       "City          567\n",
       "Cloudiness    567\n",
       "Country       567\n",
       "Date          567\n",
       "Humidity      567\n",
       "Lat           567\n",
       "Lng           567\n",
       "Max Temp      567\n",
       "Wind Speed    567\n",
       "dtype: int64"
      ]
     },
     "execution_count": 8,
     "metadata": {},
     "output_type": "execute_result"
    }
   ],
   "source": [
    "weather_dictionary.count()"
   ]
  },
  {
   "cell_type": "code",
   "execution_count": 9,
   "metadata": {},
   "outputs": [
    {
     "data": {
      "text/html": [
       "<div>\n",
       "<style scoped>\n",
       "    .dataframe tbody tr th:only-of-type {\n",
       "        vertical-align: middle;\n",
       "    }\n",
       "\n",
       "    .dataframe tbody tr th {\n",
       "        vertical-align: top;\n",
       "    }\n",
       "\n",
       "    .dataframe thead th {\n",
       "        text-align: right;\n",
       "    }\n",
       "</style>\n",
       "<table border=\"1\" class=\"dataframe\">\n",
       "  <thead>\n",
       "    <tr style=\"text-align: right;\">\n",
       "      <th></th>\n",
       "      <th>City</th>\n",
       "      <th>Cloudiness</th>\n",
       "      <th>Country</th>\n",
       "      <th>Date</th>\n",
       "      <th>Humidity</th>\n",
       "      <th>Lat</th>\n",
       "      <th>Lng</th>\n",
       "      <th>Max Temp</th>\n",
       "      <th>Wind Speed</th>\n",
       "    </tr>\n",
       "  </thead>\n",
       "  <tbody>\n",
       "    <tr>\n",
       "      <th>0</th>\n",
       "      <td>Gewanē</td>\n",
       "      <td>73</td>\n",
       "      <td>ET</td>\n",
       "      <td>1613068844</td>\n",
       "      <td>28</td>\n",
       "      <td>10.1664</td>\n",
       "      <td>40.6453</td>\n",
       "      <td>81.10</td>\n",
       "      <td>12.59</td>\n",
       "    </tr>\n",
       "    <tr>\n",
       "      <th>1</th>\n",
       "      <td>Narsaq</td>\n",
       "      <td>75</td>\n",
       "      <td>GL</td>\n",
       "      <td>1613068804</td>\n",
       "      <td>25</td>\n",
       "      <td>60.9167</td>\n",
       "      <td>-46.0500</td>\n",
       "      <td>37.40</td>\n",
       "      <td>39.12</td>\n",
       "    </tr>\n",
       "    <tr>\n",
       "      <th>2</th>\n",
       "      <td>Suzaka</td>\n",
       "      <td>100</td>\n",
       "      <td>JP</td>\n",
       "      <td>1613068844</td>\n",
       "      <td>91</td>\n",
       "      <td>36.6500</td>\n",
       "      <td>138.3167</td>\n",
       "      <td>28.00</td>\n",
       "      <td>1.14</td>\n",
       "    </tr>\n",
       "    <tr>\n",
       "      <th>3</th>\n",
       "      <td>Kumul</td>\n",
       "      <td>37</td>\n",
       "      <td>CN</td>\n",
       "      <td>1613068748</td>\n",
       "      <td>83</td>\n",
       "      <td>42.8000</td>\n",
       "      <td>93.4500</td>\n",
       "      <td>28.72</td>\n",
       "      <td>2.73</td>\n",
       "    </tr>\n",
       "    <tr>\n",
       "      <th>4</th>\n",
       "      <td>Muisne</td>\n",
       "      <td>75</td>\n",
       "      <td>EC</td>\n",
       "      <td>1613068845</td>\n",
       "      <td>79</td>\n",
       "      <td>0.6000</td>\n",
       "      <td>-80.0333</td>\n",
       "      <td>84.20</td>\n",
       "      <td>4.61</td>\n",
       "    </tr>\n",
       "    <tr>\n",
       "      <th>...</th>\n",
       "      <td>...</td>\n",
       "      <td>...</td>\n",
       "      <td>...</td>\n",
       "      <td>...</td>\n",
       "      <td>...</td>\n",
       "      <td>...</td>\n",
       "      <td>...</td>\n",
       "      <td>...</td>\n",
       "      <td>...</td>\n",
       "    </tr>\n",
       "    <tr>\n",
       "      <th>562</th>\n",
       "      <td>Borogontsy</td>\n",
       "      <td>0</td>\n",
       "      <td>RU</td>\n",
       "      <td>1613068950</td>\n",
       "      <td>93</td>\n",
       "      <td>62.6683</td>\n",
       "      <td>131.1683</td>\n",
       "      <td>3.54</td>\n",
       "      <td>5.84</td>\n",
       "    </tr>\n",
       "    <tr>\n",
       "      <th>563</th>\n",
       "      <td>Mundo Nuevo (Ojo de Agua)</td>\n",
       "      <td>0</td>\n",
       "      <td>MX</td>\n",
       "      <td>1613068950</td>\n",
       "      <td>75</td>\n",
       "      <td>18.7000</td>\n",
       "      <td>-95.5000</td>\n",
       "      <td>79.66</td>\n",
       "      <td>5.75</td>\n",
       "    </tr>\n",
       "    <tr>\n",
       "      <th>564</th>\n",
       "      <td>Ilhabela</td>\n",
       "      <td>100</td>\n",
       "      <td>BR</td>\n",
       "      <td>1613068950</td>\n",
       "      <td>71</td>\n",
       "      <td>-23.7781</td>\n",
       "      <td>-45.3581</td>\n",
       "      <td>79.56</td>\n",
       "      <td>6.38</td>\n",
       "    </tr>\n",
       "    <tr>\n",
       "      <th>565</th>\n",
       "      <td>Ibaiti</td>\n",
       "      <td>100</td>\n",
       "      <td>BR</td>\n",
       "      <td>1613068950</td>\n",
       "      <td>99</td>\n",
       "      <td>-23.8486</td>\n",
       "      <td>-50.1878</td>\n",
       "      <td>66.00</td>\n",
       "      <td>3.00</td>\n",
       "    </tr>\n",
       "    <tr>\n",
       "      <th>566</th>\n",
       "      <td>Vardø</td>\n",
       "      <td>100</td>\n",
       "      <td>NO</td>\n",
       "      <td>1613068950</td>\n",
       "      <td>86</td>\n",
       "      <td>70.3705</td>\n",
       "      <td>31.1107</td>\n",
       "      <td>17.60</td>\n",
       "      <td>17.27</td>\n",
       "    </tr>\n",
       "  </tbody>\n",
       "</table>\n",
       "<p>567 rows × 9 columns</p>\n",
       "</div>"
      ],
      "text/plain": [
       "                          City  Cloudiness Country        Date  Humidity  \\\n",
       "0                       Gewanē          73      ET  1613068844        28   \n",
       "1                       Narsaq          75      GL  1613068804        25   \n",
       "2                       Suzaka         100      JP  1613068844        91   \n",
       "3                        Kumul          37      CN  1613068748        83   \n",
       "4                       Muisne          75      EC  1613068845        79   \n",
       "..                         ...         ...     ...         ...       ...   \n",
       "562                 Borogontsy           0      RU  1613068950        93   \n",
       "563  Mundo Nuevo (Ojo de Agua)           0      MX  1613068950        75   \n",
       "564                   Ilhabela         100      BR  1613068950        71   \n",
       "565                     Ibaiti         100      BR  1613068950        99   \n",
       "566                      Vardø         100      NO  1613068950        86   \n",
       "\n",
       "         Lat       Lng  Max Temp  Wind Speed  \n",
       "0    10.1664   40.6453     81.10       12.59  \n",
       "1    60.9167  -46.0500     37.40       39.12  \n",
       "2    36.6500  138.3167     28.00        1.14  \n",
       "3    42.8000   93.4500     28.72        2.73  \n",
       "4     0.6000  -80.0333     84.20        4.61  \n",
       "..       ...       ...       ...         ...  \n",
       "562  62.6683  131.1683      3.54        5.84  \n",
       "563  18.7000  -95.5000     79.66        5.75  \n",
       "564 -23.7781  -45.3581     79.56        6.38  \n",
       "565 -23.8486  -50.1878     66.00        3.00  \n",
       "566  70.3705   31.1107     17.60       17.27  \n",
       "\n",
       "[567 rows x 9 columns]"
      ]
     },
     "execution_count": 9,
     "metadata": {},
     "output_type": "execute_result"
    }
   ],
   "source": [
    "weather_dictionary"
   ]
  },
  {
   "cell_type": "markdown",
   "metadata": {},
   "source": [
    "## Inspect the data and remove the cities where the humidity > 100%.\n",
    "----\n",
    "Skip this step if there are no cities that have humidity > 100%. "
   ]
  },
  {
   "cell_type": "code",
   "execution_count": null,
   "metadata": {},
   "outputs": [],
   "source": []
  },
  {
   "cell_type": "code",
   "execution_count": null,
   "metadata": {},
   "outputs": [],
   "source": [
    "#  Get the indices of cities that have humidity over 100%.\n"
   ]
  },
  {
   "cell_type": "code",
   "execution_count": null,
   "metadata": {},
   "outputs": [],
   "source": [
    "# Make a new DataFrame equal to the city data to drop all humidity outliers by index.\n",
    "# Passing \"inplace=False\" will make a copy of the city_data DataFrame, which we call \"clean_city_data\".\n"
   ]
  },
  {
   "cell_type": "code",
   "execution_count": null,
   "metadata": {},
   "outputs": [],
   "source": [
    "\n"
   ]
  },
  {
   "cell_type": "markdown",
   "metadata": {},
   "source": [
    "## Plotting the Data\n",
    "* Use proper labeling of the plots using plot titles (including date of analysis) and axes labels.\n",
    "* Save the plotted figures as .pngs."
   ]
  },
  {
   "cell_type": "markdown",
   "metadata": {},
   "source": [
    "## Latitude vs. Temperature Plot"
   ]
  },
  {
   "cell_type": "code",
   "execution_count": 14,
   "metadata": {
    "scrolled": true
   },
   "outputs": [
    {
     "data": {
      "image/png": "[encoded data removed]",
      "text/plain": [
       "<Figure size 432x288 with 1 Axes>"
      ]
     },
     "metadata": {
      "needs_background": "light"
     },
     "output_type": "display_data"
    }
   ],
   "source": [
    "plt.scatter(weather_dictionary[\"Lat\"], weather_dictionary[\"Max Temp\"])\n",
    "plt.title(\"Latitude vs. Temperature\")\n",
    "plt.xlabel(\"Latitude\")\n",
    "plt.ylabel(\"Temperature\")\n",
    "plt.savefig(\"../Images/Latitude vs Temperature.png\")"
   ]
  },
  {
   "cell_type": "markdown",
   "metadata": {},
   "source": [
    "## Latitude vs. Humidity Plot"
   ]
  },
  {
   "cell_type": "code",
   "execution_count": 15,
   "metadata": {},
   "outputs": [
    {
     "data": {
      "image/png": "[encoded data removed]",
      "text/plain": [
       "<Figure size 432x288 with 1 Axes>"
      ]
     },
     "metadata": {
      "needs_background": "light"
     },
     "output_type": "display_data"
    }
   ],
   "source": [
    "plt.scatter(weather_dictionary[\"Lat\"], weather_dictionary[\"Humidity\"])\n",
    "plt.title(\"Latitude vs. Humidity\")\n",
    "plt.xlabel(\"Latitude\")\n",
    "plt.ylabel(\"Humidity\")\n",
    "plt.savefig(\"../Images/Latitude vs Humidity.png\")"
   ]
  },
  {
   "cell_type": "markdown",
   "metadata": {},
   "source": [
    "## Latitude vs. Cloudiness Plot"
   ]
  },
  {
   "cell_type": "code",
   "execution_count": 16,
   "metadata": {},
   "outputs": [
    {
     "data": {
      "image/png": "[encoded data removed]",
      "text/plain": [
       "<Figure size 432x288 with 1 Axes>"
      ]
     },
     "metadata": {
      "needs_background": "light"
     },
     "output_type": "display_data"
    }
   ],
   "source": [
    "plt.scatter(weather_dictionary[\"Lat\"], weather_dictionary[\"Cloudiness\"])\n",
    "plt.title(\"Latitude vs. Cloudiness\")\n",
    "plt.xlabel(\"Latitude\")\n",
    "plt.ylabel(\"Cloudiness\")\n",
    "plt.savefig(\"../Images/Latitude vs Cloudiness.png\")"
   ]
  },
  {
   "cell_type": "markdown",
   "metadata": {},
   "source": [
    "## Latitude vs. Wind Speed Plot"
   ]
  },
  {
   "cell_type": "code",
   "execution_count": 17,
   "metadata": {},
   "outputs": [
    {
     "data": {
      "image/png": "[encoded data removed]",
      "text/plain": [
       "<Figure size 432x288 with 1 Axes>"
      ]
     },
     "metadata": {
      "needs_background": "light"
     },
     "output_type": "display_data"
    }
   ],
   "source": [
    "plt.scatter(weather_dictionary[\"Lat\"], weather_dictionary[\"Wind Speed\"])\n",
    "plt.title(\"Latitude vs. Wind Speed\")\n",
    "plt.xlabel(\"Latitude\")\n",
    "plt.ylabel(\"Wind Speed\")\n",
    "plt.savefig(\"../Images/Latitude vs Wind Speed.png\")"
   ]
  },
  {
   "cell_type": "markdown",
   "metadata": {},
   "source": [
    "## Linear Regression"
   ]
  },
  {
   "cell_type": "code",
   "execution_count": 68,
   "metadata": {},
   "outputs": [],
   "source": [
    "# Northern and Southern Hemispheres DataFrames\n",
    "northern_hemisphere = weather_dictionary.loc[weather_dictionary[\"Lat\"] >= 0]\n",
    "southern_hemisphere = weather_dictionary.loc[weather_dictionary[\"Lat\"] < 0]\n",
    "\n",
    "# Functions \n",
    "def linear_agression(x,y):\n",
    "    print(f\"The r-squared is : {round(st.pearsonr(x, y)[0],2)}\")\n",
    "    (slope, intercept, rvalue, pvalue, stderr) = linregress(x, y)\n",
    "    regress_values = x * slope + intercept\n",
    "    line_eq = \"y = \" + str(round(slope,2)) + \"x + \" + str(round(intercept,2))\n",
    "    plt.scatter(x, y)\n",
    "    plt.plot(x,regress_values,\"r-\")\n",
    "    return line_eq\n"
   ]
  },
  {
   "cell_type": "markdown",
   "metadata": {},
   "source": [
    "####  Northern Hemisphere - Max Temp vs. Latitude Linear Regression"
   ]
  },
  {
   "cell_type": "code",
   "execution_count": 67,
   "metadata": {},
   "outputs": [
    {
     "name": "stdout",
     "output_type": "stream",
     "text": [
      "The r-squared is : -0.89\n"
     ]
    },
    {
     "data": {
      "image/png": "[encoded data removed]",
      "text/plain": [
       "<Figure size 432x288 with 1 Axes>"
      ]
     },
     "metadata": {
      "needs_background": "light"
     },
     "output_type": "display_data"
    }
   ],
   "source": [
    "calculation = linear_agression(northern_hemisphere[\"Lat\"], northern_hemisphere[\"Max Temp\"])\n",
    "plt.title(\"Northern Hem - Max Temp vs. Lat Linear Regression\")\n",
    "plt.xlabel(\"Latitude\")\n",
    "plt.ylabel(\"Max Temp\")\n",
    "plt.savefig(\"../Images/Northern Hemisphere - Max Temp vs. Latitude Linear Regression.png\")"
   ]
  },
  {
   "cell_type": "code",
   "execution_count": null,
   "metadata": {},
   "outputs": [],
   "source": [
    "# The Northern Hemisphere Max Temp indicates a strong negative correlation between the latitude and the effect on the temperature. "
   ]
  },
  {
   "cell_type": "markdown",
   "metadata": {},
   "source": [
    "####  Southern Hemisphere - Max Temp vs. Latitude Linear Regression"
   ]
  },
  {
   "cell_type": "code",
   "execution_count": 70,
   "metadata": {},
   "outputs": [
    {
     "name": "stdout",
     "output_type": "stream",
     "text": [
      "The r-squared is : 0.59\n"
     ]
    },
    {
     "data": {
      "image/png": "[encoded data removed]",
      "text/plain": [
       "<Figure size 432x288 with 1 Axes>"
      ]
     },
     "metadata": {
      "needs_background": "light"
     },
     "output_type": "display_data"
    }
   ],
   "source": [
    "calculation = linear_agression(southern_hemisphere[\"Lat\"],southern_hemisphere[\"Max Temp\"])\n",
    "plt.title(\"Southern Hem - Max Temp vs. Lat Linear Regression\")\n",
    "plt.xlabel(\"Latitude\")\n",
    "plt.ylabel(\"Max Temp\")\n",
    "plt.savefig(\"../Images/Southern Hemisphere - Max Temp vs. Latitude Linear Regression.png\")"
   ]
  },
  {
   "cell_type": "code",
   "execution_count": null,
   "metadata": {},
   "outputs": [],
   "source": [
    "# The regression shows a moderate correlation between latitude and the Max Temp for the Southern Hemisphere."
   ]
  },
  {
   "cell_type": "markdown",
   "metadata": {},
   "source": [
    "####  Northern Hemisphere - Humidity (%) vs. Latitude Linear Regression"
   ]
  },
  {
   "cell_type": "code",
   "execution_count": 88,
   "metadata": {},
   "outputs": [
    {
     "name": "stdout",
     "output_type": "stream",
     "text": [
      "The r-squared is : 0.41\n"
     ]
    },
    {
     "data": {
      "image/png": "[encoded data removed]",
      "text/plain": [
       "<Figure size 432x288 with 1 Axes>"
      ]
     },
     "metadata": {
      "needs_background": "light"
     },
     "output_type": "display_data"
    }
   ],
   "source": [
    "calculation = linear_agression(northern_hemisphere[\"Lat\"], northern_hemisphere[\"Humidity\"])\n",
    "plt.title(\"Northern Hem - Humidity (%) vs. Lat Linear Regression\")\n",
    "plt.xlabel(\"Latitude\")\n",
    "plt.ylabel(\"Humidity\")\n",
    "plt.savefig(\"../Images/Northern Hemisphere - Humidity (%) vs. Latitude Linear Regression.png\")"
   ]
  },
  {
   "cell_type": "code",
   "execution_count": 73,
   "metadata": {},
   "outputs": [],
   "source": [
    "# There is an indication of a moderate positive correlation as far as the impact of the latitude and the humidity."
   ]
  },
  {
   "cell_type": "markdown",
   "metadata": {},
   "source": [
    "####  Southern Hemisphere - Humidity (%) vs. Latitude Linear Regression"
   ]
  },
  {
   "cell_type": "code",
   "execution_count": 87,
   "metadata": {},
   "outputs": [
    {
     "name": "stdout",
     "output_type": "stream",
     "text": [
      "The r-squared is : 0.11\n"
     ]
    },
    {
     "data": {
      "image/png": "[encoded data removed]",
      "text/plain": [
       "<Figure size 432x288 with 1 Axes>"
      ]
     },
     "metadata": {
      "needs_background": "light"
     },
     "output_type": "display_data"
    }
   ],
   "source": [
    "calculation = linear_agression(southern_hemisphere[\"Lat\"], southern_hemisphere[\"Humidity\"])\n",
    "plt.title(\"Southern Hem - Humidity (%) vs. Lat Linear Regression\")\n",
    "plt.xlabel(\"Latitude\")\n",
    "plt.ylabel(\"Humidity\")\n",
    "plt.savefig(\"../Images/Southern Hemisphere - Humidity (%) vs. Latitude Linear Regression.png\")"
   ]
  },
  {
   "cell_type": "code",
   "execution_count": 74,
   "metadata": {},
   "outputs": [],
   "source": [
    "# The regression shows a moderate positive correlation between latitude and humidity in the Southern Hemisphere."
   ]
  },
  {
   "cell_type": "markdown",
   "metadata": {},
   "source": [
    "####  Northern Hemisphere - Cloudiness (%) vs. Latitude Linear Regression"
   ]
  },
  {
   "cell_type": "code",
   "execution_count": 86,
   "metadata": {},
   "outputs": [
    {
     "name": "stdout",
     "output_type": "stream",
     "text": [
      "The r-squared is : 0.14\n"
     ]
    },
    {
     "data": {
      "image/png": "[encoded data removed]",
      "text/plain": [
       "<Figure size 432x288 with 1 Axes>"
      ]
     },
     "metadata": {
      "needs_background": "light"
     },
     "output_type": "display_data"
    }
   ],
   "source": [
    "calculation = linear_agression(northern_hemisphere[\"Lat\"], northern_hemisphere[\"Cloudiness\"])\n",
    "plt.title(\"Northern Hem - Cloudiness (%) vs. Lat Linear Regression\")\n",
    "plt.xlabel(\"Latitude\")\n",
    "plt.ylabel(\"Cloudiness\")\n",
    "plt.savefig(\"../Images/Northern Hemisphere - Cloudiness (%) vs. Latitude Linear Regression.png\")"
   ]
  },
  {
   "cell_type": "code",
   "execution_count": 76,
   "metadata": {},
   "outputs": [],
   "source": [
    "# The correlation between latitude and cloudiness in the Northern Hemisphere is positive, but not too strong."
   ]
  },
  {
   "cell_type": "markdown",
   "metadata": {},
   "source": [
    "####  Southern Hemisphere - Cloudiness (%) vs. Latitude Linear Regression"
   ]
  },
  {
   "cell_type": "code",
   "execution_count": 85,
   "metadata": {},
   "outputs": [
    {
     "name": "stdout",
     "output_type": "stream",
     "text": [
      "The r-squared is : 0.24\n"
     ]
    },
    {
     "data": {
      "image/png": "[encoded data removed]",
      "text/plain": [
       "<Figure size 432x288 with 1 Axes>"
      ]
     },
     "metadata": {
      "needs_background": "light"
     },
     "output_type": "display_data"
    }
   ],
   "source": [
    "calculation = linear_agression(southern_hemisphere[\"Lat\"], southern_hemisphere[\"Cloudiness\"])\n",
    "plt.title(\"Southern Hem - Cloudiness (%) vs. Lat Linear Regression\")\n",
    "plt.xlabel(\"Latitude\")\n",
    "plt.ylabel(\"Cloudiness\")\n",
    "plt.savefig(\"../Images/Southern Hemisphere - Cloudiness (%) vs. Latitude Linear Regression.png\")"
   ]
  },
  {
   "cell_type": "code",
   "execution_count": 78,
   "metadata": {},
   "outputs": [],
   "source": [
    "# The regression shows a weak correlation between latitude and cloudiness in the Southern Hemisphere."
   ]
  },
  {
   "cell_type": "markdown",
   "metadata": {},
   "source": [
    "####  Northern Hemisphere - Wind Speed (mph) vs. Latitude Linear Regression"
   ]
  },
  {
   "cell_type": "code",
   "execution_count": 84,
   "metadata": {},
   "outputs": [
    {
     "name": "stdout",
     "output_type": "stream",
     "text": [
      "The r-squared is : 0.07\n"
     ]
    },
    {
     "data": {
      "image/png": "[encoded data removed]",
      "text/plain": [
       "<Figure size 432x288 with 1 Axes>"
      ]
     },
     "metadata": {
      "needs_background": "light"
     },
     "output_type": "display_data"
    }
   ],
   "source": [
    "calculation = linear_agression(northern_hemisphere[\"Lat\"], northern_hemisphere[\"Wind Speed\"])\n",
    "plt.title(\"Northern Hem - Wind Speed (mph) vs. Lat Linear Regression\")\n",
    "plt.xlabel(\"Latitude\")\n",
    "plt.ylabel(\"Wind Speed\")\n",
    "plt.savefig(\"../Images/Northern Hemisphere - Wind Speed vs. Latitude Linear Regression.png\")"
   ]
  },
  {
   "cell_type": "code",
   "execution_count": 80,
   "metadata": {},
   "outputs": [],
   "source": [
    "# There is an indication of a very weak corralation between latitude and the wind speed in the Northern Hemisphere."
   ]
  },
  {
   "cell_type": "markdown",
   "metadata": {},
   "source": [
    "####  Southern Hemisphere - Wind Speed (mph) vs. Latitude Linear Regression"
   ]
  },
  {
   "cell_type": "code",
   "execution_count": 83,
   "metadata": {},
   "outputs": [
    {
     "name": "stdout",
     "output_type": "stream",
     "text": [
      "The r-squared is : -0.23\n"
     ]
    },
    {
     "data": {
      "image/png": "[encoded data removed]",
      "text/plain": [
       "<Figure size 432x288 with 1 Axes>"
      ]
     },
     "metadata": {
      "needs_background": "light"
     },
     "output_type": "display_data"
    }
   ],
   "source": [
    "calculation = linear_agression(southern_hemisphere[\"Lat\"], southern_hemisphere[\"Wind Speed\"])\n",
    "plt.title(\"Southern Hem - Wind Speed (mph) vs. Lat Linear Regression\")\n",
    "plt.xlabel(\"Latitude\")\n",
    "plt.ylabel(\"Wind Speed\")\n",
    "plt.savefig(\"../Images/Southern Hemisphere - Wind Speed vs. Latitude Linear Regression.png\")"
   ]
  },
  {
   "cell_type": "code",
   "execution_count": 82,
   "metadata": {},
   "outputs": [],
   "source": [
    "# The correlation is negative, but very weak between latitude and the wind speed in the Southern Hemisphere."
   ]
  }
 ],
 "metadata": {
  "anaconda-cloud": {},
  "kernel_info": {
   "name": "python3"
  },
  "kernelspec": {
   "display_name": "Python 3",
   "language": "python",
   "name": "python3"
  },
  "language_info": {
   "codemirror_mode": {
    "name": "ipython",
    "version": 3
   },
   "file_extension": ".py",
   "mimetype": "text/x-python",
   "name": "python",
   "nbconvert_exporter": "python",
   "pygments_lexer": "ipython3",
   "version": "3.6.10"
  },
  "latex_envs": {
   "LaTeX_envs_menu_present": true,
   "autoclose": false,
   "autocomplete": true,
   "bibliofile": "biblio.bib",
   "cite_by": "apalike",
   "current_citInitial": 1,
   "eqLabelWithNumbers": true,
   "eqNumInitial": 1,
   "hotkeys": {
    "equation": "Ctrl-E",
    "itemize": "Ctrl-I"
   },
   "labels_anchors": false,
   "latex_user_defs": false,
   "report_style_numbering": false,
   "user_envs_cfg": false
  },
  "nteract": {
   "version": "0.12.3"
  }
 },
 "nbformat": 4,
 "nbformat_minor": 2
}
